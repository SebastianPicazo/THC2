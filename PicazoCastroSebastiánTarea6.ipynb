{
  "nbformat": 4,
  "nbformat_minor": 0,
  "metadata": {
    "colab": {
      "provenance": [],
      "authorship_tag": "ABX9TyPWn7f80fCRIriQeA4tuagr",
      "include_colab_link": true
    },
    "kernelspec": {
      "name": "python3",
      "display_name": "Python 3"
    },
    "language_info": {
      "name": "python"
    }
  },
  "cells": [
    {
      "cell_type": "markdown",
      "metadata": {
        "id": "view-in-github",
        "colab_type": "text"
      },
      "source": [
        "<a href=\"https://colab.research.google.com/github/SebastianPicazo/THC2/blob/main/PicazoCastroSebasti%C3%A1nTarea6.ipynb\" target=\"_parent\"><img src=\"https://colab.research.google.com/assets/colab-badge.svg\" alt=\"Open In Colab\"/></a>"
      ]
    },
    {
      "cell_type": "markdown",
      "source": [
        "El producto de dos vectores"
      ],
      "metadata": {
        "id": "nmp3htQGozb1"
      }
    },
    {
      "cell_type": "code",
      "source": [
        "#Definimos dos vectores de ejemplo\n",
        "vector1 = [1, 2, 3]\n",
        "vector2 = [4, 5, 6]\n",
        "def producto_de_vectores(vector1, vector2):\n",
        "    #Checamos qu elos vectores tengan la misma longitud\n",
        "    if len(vector1) != len(vector2):\n",
        "        print(\"Los vectores tienen diferentes longitudes\")\n",
        "        return None #Esto nos da que un valor no es valido\n",
        "\n",
        "    #Damos una variable\n",
        "    resultado = 0\n",
        "\n",
        "    #Iteramos a través de los elementos de los vectores usando un bucle for\n",
        "    for i in range(len(vector1)):\n",
        "        # Multiplicamos y sumamos el resultado\n",
        "        resultado += vector1[i] * vector2[i]\n",
        "\n",
        "    return resultado\n",
        "\n",
        "#Llamamos a la función\n",
        "resultado = producto_de_vectores(vector1, vector2)\n",
        "\n",
        "#Imprimimos el resultado si no es none\n",
        "if resultado is not None:\n",
        "    print(\"Producto de los vectores:\", resultado)\n"
      ],
      "metadata": {
        "colab": {
          "base_uri": "https://localhost:8080/"
        },
        "id": "HMhdQZO-vcXS",
        "outputId": "5333d118-3cc7-4219-ec2f-b0ca314648aa"
      },
      "execution_count": 22,
      "outputs": [
        {
          "output_type": "stream",
          "name": "stdout",
          "text": [
            "Producto de los vectores: 32\n"
          ]
        }
      ]
    },
    {
      "cell_type": "markdown",
      "source": [
        "La potencia de cada vector con n=3"
      ],
      "metadata": {
        "id": "BLg35UC1tBqv"
      }
    },
    {
      "cell_type": "code",
      "source": [
        "#Definimos dos vectores de ejemplo\n",
        "vector1 = [1, 2, 3]\n",
        "vector2 = [4, 5, 6]\n",
        "def potencia_vector(vector):\n",
        "    #Creamos un vector\n",
        "    resultado = []\n",
        "\n",
        "    #Elevamos al vector a la 3ra potencia\n",
        "    for elemento in vector:\n",
        "        potencia = elemento ** 3\n",
        "        resultado.append(potencia)\n",
        "\n",
        "    return resultado\n",
        "\n",
        "#Calculamos la potencia de cada vector\n",
        "potencia_vector1 = potencia_vector(vector1)\n",
        "potencia_vector2 = potencia_vector(vector2)\n",
        "\n",
        "#Imprimimos a la funcion\n",
        "print(\"Potencia de vector1:\", potencia_vector1)\n",
        "print(\"Potencia de vector2:\", potencia_vector2)\n"
      ],
      "metadata": {
        "colab": {
          "base_uri": "https://localhost:8080/"
        },
        "id": "u-bMMaZ1tbWN",
        "outputId": "5c4de0e3-31c8-4d25-87e6-c2e0f5a67eff"
      },
      "execution_count": 15,
      "outputs": [
        {
          "output_type": "stream",
          "name": "stdout",
          "text": [
            "Potencia de vector1: [1, 8, 27]\n",
            "Potencia de vector2: [64, 125, 216]\n"
          ]
        }
      ]
    },
    {
      "cell_type": "markdown",
      "source": [
        "Calcular el producto escalar"
      ],
      "metadata": {
        "id": "drT80jcWu086"
      }
    },
    {
      "cell_type": "code",
      "source": [
        "#Damos 2 vectores\n",
        "vector1 = [1, 2, 3, 4]\n",
        "vector2 = [4, 5, 6, 7]\n",
        "#Definimos una función\n",
        "def producto_escalar(vector1, vector2):\n",
        "    #Checamos que tengan la misma longitud\n",
        "    if len(vector1) != len(vector2):\n",
        "        raise ValueError(\"Los vectores deben tener la misma longitud\")\n",
        "\n",
        "    resultado = 0  #Damos una variable\n",
        "\n",
        "    for i in range(len(vector1)):\n",
        "        if i < len(vector2):\n",
        "\n",
        "            #Se multiplica y se realiza la suma\n",
        "            resultado += vector1[i] * vector2[i]\n",
        "\n",
        "    #Se imprime el resultado\n",
        "    print(\"Producto escalar:\", resultado)\n",
        "\n",
        "\n",
        "#Se llama a la funcion\n",
        "producto_escalar(vector1, vector2)\n"
      ],
      "metadata": {
        "colab": {
          "base_uri": "https://localhost:8080/"
        },
        "id": "g1u3qfdbsY8a",
        "outputId": "bd488294-5e53-4f90-d149-e58a7256adcc"
      },
      "execution_count": 13,
      "outputs": [
        {
          "output_type": "stream",
          "name": "stdout",
          "text": [
            "Producto escalar: 60\n"
          ]
        }
      ]
    }
  ]
}