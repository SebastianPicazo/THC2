{
  "nbformat": 4,
  "nbformat_minor": 0,
  "metadata": {
    "colab": {
      "provenance": [],
      "authorship_tag": "ABX9TyPwQWM+2ZK+xGS48rmr8y4Z",
      "include_colab_link": true
    },
    "kernelspec": {
      "name": "python3",
      "display_name": "Python 3"
    },
    "language_info": {
      "name": "python"
    }
  },
  "cells": [
    {
      "cell_type": "markdown",
      "metadata": {
        "id": "view-in-github",
        "colab_type": "text"
      },
      "source": [
        "<a href=\"https://colab.research.google.com/github/SebastianPicazo/THC2/blob/main/PicazoCastroSebastianT5.ipynb\" target=\"_parent\"><img src=\"https://colab.research.google.com/assets/colab-badge.svg\" alt=\"Open In Colab\"/></a>"
      ]
    },
    {
      "cell_type": "markdown",
      "source": [
        "Ejecicio 1\n",
        "\n"
      ],
      "metadata": {
        "id": "XyijYHjtgFNc"
      }
    },
    {
      "cell_type": "code",
      "execution_count": 2,
      "metadata": {
        "colab": {
          "base_uri": "https://localhost:8080/"
        },
        "id": "W4wC0o9vgEu8",
        "outputId": "9bc739e9-16bf-437f-c8a4-fded04299ecc"
      },
      "outputs": [
        {
          "output_type": "stream",
          "name": "stdout",
          "text": [
            "Ingrese el número 1: 3\n",
            "Ingrese el número 2: 4\n",
            "Ingrese el número 3: 5\n",
            "Ingrese el número 4: 6\n",
            "Ingrese el número 5: 7\n",
            "El promedio de los números ingresados es: 6.0\n"
          ]
        }
      ],
      "source": [
        "numeros = []\n",
        "\n",
        "#Colocar los numeros en un rango de lista de 5 numeros\n",
        "for i in range(5):\n",
        "    num = float(input(f\"Ingrese el número {i+1}: \"))\n",
        "    numeros.append(numero)\n",
        "\n",
        "#Calcula el promedio\n",
        "promedio = sum(numeros) / len(numeros)\n",
        "\n",
        "#Imprimir resultados\n",
        "print(f\"El promedio de los números ingresados es: {promedio}\")\n"
      ]
    },
    {
      "cell_type": "markdown",
      "source": [
        "Ejercicio 2"
      ],
      "metadata": {
        "id": "W34wtfusgxIw"
      }
    },
    {
      "cell_type": "code",
      "source": [
        "numeros = []\n",
        "n = int(input(\"Ingrese la cantidad de números que desea agregar a la lista: \"))\n",
        "\n",
        "for i in range(n):\n",
        "    numero = float(input(f\"Ingrese el número {i+1}: \"))\n",
        "    numeros.append(numero)\n",
        "\n",
        "#Para inicializar las variables\n",
        "maximo = numeros[0]\n",
        "minimo = numeros[0]\n",
        "\n",
        "#Se encuentra el valor maximo y minimo\n",
        "for numero in numeros:\n",
        "    if numero > maximo:\n",
        "        maximo = numero\n",
        "    if numero < minimo:\n",
        "        minimo = numero\n",
        "\n",
        "#Imprimir resultados\n",
        "print(f\"El valor máximo en la lista es: {maximo}\")\n",
        "print(f\"El valor mínimo en la lista es: {minimo}\")\n"
      ],
      "metadata": {
        "colab": {
          "base_uri": "https://localhost:8080/"
        },
        "id": "lP1bdoKQjItW",
        "outputId": "d926a6e7-3b18-4313-e1db-d1314e11518c"
      },
      "execution_count": 8,
      "outputs": [
        {
          "output_type": "stream",
          "name": "stdout",
          "text": [
            "Ingrese la cantidad de números que desea agregar a la lista: 4\n",
            "Ingrese el número 1: 12\n",
            "Ingrese el número 2: 45\n",
            "Ingrese el número 3: 61\n",
            "Ingrese el número 4: 4\n",
            "El valor máximo en la lista es: 61.0\n",
            "El valor mínimo en la lista es: 4.0\n"
          ]
        }
      ]
    },
    {
      "cell_type": "markdown",
      "source": [
        "Ejerecicio 3"
      ],
      "metadata": {
        "id": "QKZRBYRYjrZm"
      }
    },
    {
      "cell_type": "code",
      "source": [
        "numeros = []\n",
        "n = int(input(\"Ingrese la cantidad de números que desea agregar a la lista: \"))\n",
        "\n",
        "for i in range(n):\n",
        "    numero = int(input(f\"Ingrese el número {i + 1}: \"))\n",
        "    numeros.append(numero)\n",
        "\n",
        "#Generar las listas\n",
        "numeros_pares = []\n",
        "numeros_impares = []\n",
        "\n",
        "#Separar los números en las listas correspondientes\n",
        "for numero in numeros:\n",
        "    if numero % 2 == 0:  # Si el número es par\n",
        "        numeros_pares.append(numero)\n",
        "    else:\n",
        "        numeros_impares.append(numero)\n",
        "\n",
        "#Imprimir resultados\n",
        "print(\"Números pares:\", numeros_pares)\n",
        "print(\"Números impares:\", numeros_impares)\n"
      ],
      "metadata": {
        "colab": {
          "base_uri": "https://localhost:8080/"
        },
        "id": "ENQneJfVjq6v",
        "outputId": "64e255af-96e5-4ec0-c5b1-d90f6710dc8a"
      },
      "execution_count": 9,
      "outputs": [
        {
          "output_type": "stream",
          "name": "stdout",
          "text": [
            "Ingrese la cantidad de números que desea agregar a la lista: 4\n",
            "Ingrese el número 1: 45\n",
            "Ingrese el número 2: 62\n",
            "Ingrese el número 3: 34\n",
            "Ingrese el número 4: 55\n",
            "Números pares: [62, 34]\n",
            "Números impares: [45, 55]\n"
          ]
        }
      ]
    }
  ]
}