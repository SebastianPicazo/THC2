{
  "nbformat": 4,
  "nbformat_minor": 0,
  "metadata": {
    "colab": {
      "provenance": [],
      "authorship_tag": "ABX9TyPsRkeP314l/P8fe/VdP+AP",
      "include_colab_link": true
    },
    "kernelspec": {
      "name": "python3",
      "display_name": "Python 3"
    },
    "language_info": {
      "name": "python"
    }
  },
  "cells": [
    {
      "cell_type": "markdown",
      "metadata": {
        "id": "view-in-github",
        "colab_type": "text"
      },
      "source": [
        "<a href=\"https://colab.research.google.com/github/SebastianPicazo/THC2/blob/main/Clase10deOctubre.ipynb\" target=\"_parent\"><img src=\"https://colab.research.google.com/assets/colab-badge.svg\" alt=\"Open In Colab\"/></a>"
      ]
    },
    {
      "cell_type": "code",
      "execution_count": 6,
      "metadata": {
        "colab": {
          "base_uri": "https://localhost:8080/"
        },
        "id": "IvD_419-vk4D",
        "outputId": "98c01d1a-f463-4470-ebdc-d9a57213048f"
      },
      "outputs": [
        {
          "output_type": "stream",
          "name": "stdout",
          "text": [
            "{'brand': 'Ford', 'model': 'Mustang', 'year': 2020}\n"
          ]
        }
      ],
      "source": [
        "thisdict = {\n",
        "  \"brand\": \"Ford\",\n",
        "  \"model\": \"Mustang\",\n",
        "  \"year\": 1964,\n",
        "  \"year\": 2020\n",
        "\n",
        "}\n",
        "print(thisdict)"
      ]
    },
    {
      "cell_type": "code",
      "source": [
        "thisdict = {\n",
        "  \"brand\": \"Ford\",\n",
        "  \"model\": \"Mustang\",\n",
        "  \"year\": 1964,\n",
        "  \"year\": 2020\n",
        "}\n",
        "print(thisdict)"
      ],
      "metadata": {
        "colab": {
          "base_uri": "https://localhost:8080/"
        },
        "id": "qZndpvV1xpjK",
        "outputId": "4e63d1ce-b668-4656-a580-098586fda7b6"
      },
      "execution_count": 3,
      "outputs": [
        {
          "output_type": "stream",
          "name": "stdout",
          "text": [
            "{'brand': 'Ford', 'model': 'Mustang', 'year': 2020}\n"
          ]
        }
      ]
    },
    {
      "cell_type": "code",
      "source": [
        "diccionario = {'python': 2.7, 'zope': 2.13, 'plone': '5'.7}\n",
        "\n",
        "l=[]\n",
        "for i in diccionario.keys():\n",
        "    l.append(diccionario[i])\n",
        "\n",
        "print(l)"
      ],
      "metadata": {
        "colab": {
          "base_uri": "https://localhost:8080/"
        },
        "id": "o-bCQtMMx15y",
        "outputId": "89dab66f-5fbc-4590-c3ba-9617a5f63baf"
      },
      "execution_count": 4,
      "outputs": [
        {
          "output_type": "stream",
          "name": "stdout",
          "text": [
            "[2.7, 2.13, 5.7]\n"
          ]
        }
      ]
    },
    {
      "cell_type": "code",
      "source": [
        "import pandas as pd\n",
        "\n",
        "# Crear un diccionario con datos\n",
        "datos = {\n",
        "    'Nombre': ['Juan', 'María', 'Pedro', 'Luisa'],\n",
        "    'Edad': [25, 28, 22, 30],\n",
        "    'Ciudad': ['Madrid', 'Barcelona', 'Valencia', 'Sevilla']\n",
        "}\n",
        "\n",
        "# Crear un DataFrame a partir del diccionario\n",
        "dataframe = pd.DataFrame(datos)\n",
        "\n",
        "# Mostrar el DataFrame\n",
        "print(dataframe)\n"
      ],
      "metadata": {
        "colab": {
          "base_uri": "https://localhost:8080/"
        },
        "id": "yeyQo9GCyIgC",
        "outputId": "fd4f6ae8-7be1-4833-de65-4e159ac4cb6c"
      },
      "execution_count": 5,
      "outputs": [
        {
          "output_type": "stream",
          "name": "stdout",
          "text": [
            "  Nombre  Edad     Ciudad\n",
            "0   Juan    25     Madrid\n",
            "1  María    28  Barcelona\n",
            "2  Pedro    22   Valencia\n",
            "3  Luisa    30    Sevilla\n"
          ]
        }
      ]
    },
    {
      "cell_type": "code",
      "source": [
        "# Crear una tupla\n",
        "mi_tupla = (1, 2, 3, \"Hola\", True)\n",
        "print(mi_tupla)"
      ],
      "metadata": {
        "colab": {
          "base_uri": "https://localhost:8080/"
        },
        "id": "oflWBZQCzvMa",
        "outputId": "062a8b3e-f728-4408-a507-26269663c6d9"
      },
      "execution_count": 7,
      "outputs": [
        {
          "output_type": "stream",
          "name": "stdout",
          "text": [
            "(1, 2, 3, 'Hola', True)\n"
          ]
        }
      ]
    },
    {
      "cell_type": "code",
      "source": [
        "# Acceder a elementos de la tupla por índice\n",
        "print(mi_tupla[0])  # Imprime: 1\n",
        "print(mi_tupla[3])  # Imprime: Hola"
      ],
      "metadata": {
        "colab": {
          "base_uri": "https://localhost:8080/"
        },
        "id": "jGpbD3DBz41j",
        "outputId": "eaad320f-d913-4c4c-a840-93bb2b50a655"
      },
      "execution_count": 8,
      "outputs": [
        {
          "output_type": "stream",
          "name": "stdout",
          "text": [
            "1\n",
            "Hola\n"
          ]
        }
      ]
    },
    {
      "cell_type": "code",
      "source": [
        "frutas= (\"Manzana\", \"Uva\", \"Melon\", \"Sandía\")\n",
        "for fruta in frutas:\n",
        "  print(fruta)"
      ],
      "metadata": {
        "colab": {
          "base_uri": "https://localhost:8080/"
        },
        "id": "dn8sSAHY0lha",
        "outputId": "81da1f7e-0a69-4c7d-9482-2ada917482d6"
      },
      "execution_count": 9,
      "outputs": [
        {
          "output_type": "stream",
          "name": "stdout",
          "text": [
            "Manzana\n",
            "Uva\n",
            "Melon\n",
            "Sandía\n"
          ]
        }
      ]
    },
    {
      "cell_type": "code",
      "source": [
        "if 'Manzana' in frutas:\n",
        "    print('Sí, la manzana está en la tupla.')"
      ],
      "metadata": {
        "colab": {
          "base_uri": "https://localhost:8080/"
        },
        "id": "HaD2gIS-1qPM",
        "outputId": "8690a630-5d6e-4358-8eab-c79f1d36c8f5"
      },
      "execution_count": 12,
      "outputs": [
        {
          "output_type": "stream",
          "name": "stdout",
          "text": [
            "Sí, la manzana está en la tupla.\n"
          ]
        }
      ]
    },
    {
      "cell_type": "code",
      "source": [
        "def mi_funcion():\n",
        "  print(\"Hola, te saludo desde la función\")"
      ],
      "metadata": {
        "id": "PXGc19tK2g0G"
      },
      "execution_count": 13,
      "outputs": []
    },
    {
      "cell_type": "code",
      "source": [
        "mi_funcion()"
      ],
      "metadata": {
        "colab": {
          "base_uri": "https://localhost:8080/"
        },
        "id": "G4vIhCEe26ic",
        "outputId": "b8ea3458-aa34-4a53-ac52-800b23b5de19"
      },
      "execution_count": 14,
      "outputs": [
        {
          "output_type": "stream",
          "name": "stdout",
          "text": [
            "Hola, te saludo desde la función\n"
          ]
        }
      ]
    },
    {
      "cell_type": "code",
      "source": [
        "def mi_funcion_nueva(fname):\n",
        "    print(\"Hola \"+fname +\" te saludo desde la función\")\n",
        "\n",
        "mi_funcion_nueva(\"Sebastián\")"
      ],
      "metadata": {
        "colab": {
          "base_uri": "https://localhost:8080/"
        },
        "id": "o6PtIZIE3TRl",
        "outputId": "672be128-08d8-4ec4-a609-eb8734bb6e21"
      },
      "execution_count": 15,
      "outputs": [
        {
          "output_type": "stream",
          "name": "stdout",
          "text": [
            "Hola Sebastián te saludo desde la función\n"
          ]
        }
      ]
    },
    {
      "cell_type": "code",
      "source": [
        "def Nombre(fname,lname):\n",
        "    print(\"Hola \"+fname + \" \" + lname+ \" te saludo desde la función\")\n",
        "\n",
        "Nombre(\"Sebastián\",\"PC\")\n"
      ],
      "metadata": {
        "colab": {
          "base_uri": "https://localhost:8080/"
        },
        "id": "UpWYfcJx4RbS",
        "outputId": "7c076ae8-2708-4ae0-f696-ea1f86cc9322"
      },
      "execution_count": 16,
      "outputs": [
        {
          "output_type": "stream",
          "name": "stdout",
          "text": [
            "Hola Sebastián PC te saludo desde la función\n"
          ]
        }
      ]
    },
    {
      "cell_type": "code",
      "source": [
        "def mi_funcion(*kids):\n",
        "    print(\"El niño menor es \" + kids[2])\n",
        "\n",
        "mi_funcion(\"Emil\", \"Tobias\", \"Linus\")"
      ],
      "metadata": {
        "colab": {
          "base_uri": "https://localhost:8080/"
        },
        "id": "DCsduXp75nIz",
        "outputId": "085f9c04-e049-4e67-95ee-336db50c749c"
      },
      "execution_count": 17,
      "outputs": [
        {
          "output_type": "stream",
          "name": "stdout",
          "text": [
            "El niño menor es Linus\n"
          ]
        }
      ]
    },
    {
      "cell_type": "code",
      "source": [
        "def mi_funcion(**chamaco):\n",
        "  print(\"El apellido es \" + chamaco[\"Ape\"])\n",
        "\n",
        "mi_funcion(nombre = \"Aquiles\", Ape = \"Vapython\")"
      ],
      "metadata": {
        "id": "DS-IHie26T64"
      },
      "execution_count": null,
      "outputs": []
    },
    {
      "cell_type": "markdown",
      "source": [
        "Ejercicio 1"
      ],
      "metadata": {
        "id": "pUPsMrA48ZXo"
      }
    },
    {
      "cell_type": "code",
      "source": [
        "A=[3,4,5,6,7]\n",
        "B=[6,9,8,6,2]\n",
        "def sum_vec(A,B):\n",
        "  if len(A) == len(B):\n",
        "    n=len(A)\n",
        "    C= n*[0.0]\n",
        "    for i in range(n):\n",
        "      C[i]=A[i]+B[i]\n",
        "    print(C)"
      ],
      "metadata": {
        "id": "HiqPxudv8caH"
      },
      "execution_count": 30,
      "outputs": []
    },
    {
      "cell_type": "code",
      "source": [
        "sum_vec(A,B)"
      ],
      "metadata": {
        "colab": {
          "base_uri": "https://localhost:8080/"
        },
        "id": "F8jFl93rA2bP",
        "outputId": "37fe6ed8-870e-4266-e363-2f1b1422588f"
      },
      "execution_count": 31,
      "outputs": [
        {
          "output_type": "stream",
          "name": "stdout",
          "text": [
            "[9, 13, 13, 12, 9]\n"
          ]
        }
      ]
    }
  ]
}