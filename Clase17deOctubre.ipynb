{
  "nbformat": 4,
  "nbformat_minor": 0,
  "metadata": {
    "colab": {
      "provenance": [],
      "authorship_tag": "ABX9TyPrb0JDR4wJ2Mg2qO+SV5zM",
      "include_colab_link": true
    },
    "kernelspec": {
      "name": "python3",
      "display_name": "Python 3"
    },
    "language_info": {
      "name": "python"
    }
  },
  "cells": [
    {
      "cell_type": "markdown",
      "metadata": {
        "id": "view-in-github",
        "colab_type": "text"
      },
      "source": [
        "<a href=\"https://colab.research.google.com/github/SebastianPicazo/THC2/blob/main/Clase17deOctubre.ipynb\" target=\"_parent\"><img src=\"https://colab.research.google.com/assets/colab-badge.svg\" alt=\"Open In Colab\"/></a>"
      ]
    },
    {
      "cell_type": "code",
      "execution_count": null,
      "metadata": {
        "colab": {
          "base_uri": "https://localhost:8080/"
        },
        "id": "ZVtbG5yMyCV0",
        "outputId": "21f309e9-d848-4e0c-e334-fec23d5000f0"
      },
      "outputs": [
        {
          "output_type": "stream",
          "name": "stdout",
          "text": [
            "2\n",
            "6\n",
            "-5\n",
            "23\n",
            "10\n"
          ]
        }
      ],
      "source": [
        "# Import math library\n",
        "import math\n",
        "\n",
        "# Round a number upward to its nearest integer\n",
        "print(math.ceil(1.4))\n",
        "print(math.ceil(5.3))\n",
        "print(math.ceil(-5.3))\n",
        "print(math.ceil(22.6))\n",
        "print(math.ceil(10.0))"
      ]
    },
    {
      "cell_type": "code",
      "source": [
        "# Import math Library\n",
        "import math\n",
        "\n",
        "p = [3, 3]\n",
        "q = [6, 12]\n",
        "\n",
        "# Calculate Euclidean distance\n",
        "print (math.dist(p, q))"
      ],
      "metadata": {
        "colab": {
          "base_uri": "https://localhost:8080/"
        },
        "id": "YPUMYhW2yR5u",
        "outputId": "7f0f30d6-dfbd-4c10-f516-15d6306b252e"
      },
      "execution_count": null,
      "outputs": [
        {
          "output_type": "stream",
          "name": "stdout",
          "text": [
            "9.486832980505138\n"
          ]
        }
      ]
    },
    {
      "cell_type": "code",
      "source": [
        "# Import math Library\n",
        "import math\n",
        "\n",
        "# Check whether the values are infinite or not\n",
        "print(math.isinf(56))\n",
        "print(math.isinf(-45.34))\n",
        "print(math.isinf(+45.34))\n",
        "print(math.isinf(math.inf))\n",
        "print(math.isinf(float(\"nan\")))\n",
        "print(math.isinf(float(\"inf\")))\n",
        "print(math.isinf(float(\"-inf\")))\n",
        "print(math.isinf(-math.inf))"
      ],
      "metadata": {
        "colab": {
          "base_uri": "https://localhost:8080/"
        },
        "id": "u6N9-MnZyZQV",
        "outputId": "7abdd7cf-fae8-459f-f18b-be7baf85ac9c"
      },
      "execution_count": null,
      "outputs": [
        {
          "output_type": "stream",
          "name": "stdout",
          "text": [
            "False\n",
            "False\n",
            "False\n",
            "True\n",
            "False\n",
            "True\n",
            "True\n",
            "True\n"
          ]
        }
      ]
    },
    {
      "cell_type": "code",
      "source": [
        "import random\n",
        "\n",
        "random.seed(10)\n",
        "print(random.random())"
      ],
      "metadata": {
        "colab": {
          "base_uri": "https://localhost:8080/"
        },
        "id": "U6f3R_K70LJp",
        "outputId": "2b8f9613-8c14-496f-f360-ab2718a348dc"
      },
      "execution_count": null,
      "outputs": [
        {
          "output_type": "stream",
          "name": "stdout",
          "text": [
            "0.5714025946899135\n"
          ]
        }
      ]
    },
    {
      "cell_type": "code",
      "source": [
        "import random\n",
        "\n",
        "print(random.randint(3, 9))"
      ],
      "metadata": {
        "colab": {
          "base_uri": "https://localhost:8080/"
        },
        "id": "V36tmprN0l0O",
        "outputId": "c0c84203-feb3-4738-f0ce-76fa94b7e444"
      },
      "execution_count": null,
      "outputs": [
        {
          "output_type": "stream",
          "name": "stdout",
          "text": [
            "3\n"
          ]
        }
      ]
    },
    {
      "cell_type": "code",
      "source": [
        "import random\n",
        "\n",
        "mylist = [\"apple\", \"banana\", \"cherry\"]\n",
        "\n",
        "print(random.choice(mylist))"
      ],
      "metadata": {
        "colab": {
          "base_uri": "https://localhost:8080/"
        },
        "id": "rsdD1Nc01EGg",
        "outputId": "e38bcf27-9a15-4904-f322-e09ea9f8d7d0"
      },
      "execution_count": null,
      "outputs": [
        {
          "output_type": "stream",
          "name": "stdout",
          "text": [
            "cherry\n"
          ]
        }
      ]
    },
    {
      "cell_type": "markdown",
      "source": [
        "**Matriz**"
      ],
      "metadata": {
        "id": "tP0IQ5w_3BdY"
      }
    },
    {
      "cell_type": "code",
      "source": [
        "A=[[1,2,3],[4,5,6],[7,8,9]]\n",
        "B=[[10,11,12],[13,14,15],[16,17,18]]\n",
        "print(A[0][2])"
      ],
      "metadata": {
        "colab": {
          "base_uri": "https://localhost:8080/"
        },
        "id": "cW9TZAwh3P7q",
        "outputId": "808ffb11-473f-47f7-8e41-7589e94435f0"
      },
      "execution_count": null,
      "outputs": [
        {
          "output_type": "stream",
          "name": "stdout",
          "text": [
            "3\n"
          ]
        }
      ]
    },
    {
      "cell_type": "code",
      "source": [
        "A=[[1,2,3],[4,5,6],[7,8,9]]\n",
        "B=[[10,11,12],[13,14,15],[16,17,18]]\n",
        "for i in range (len(A)):\n",
        "  print(A[0][i]) #Dependiendo de la primera entrada es el renglon de la matriz\n",
        "for i in range (len(B)):\n",
        "  print(B[i][0])"
      ],
      "metadata": {
        "colab": {
          "base_uri": "https://localhost:8080/"
        },
        "id": "JH1465l-42w4",
        "outputId": "35a6ff06-e6fe-4b4f-a292-da141c75f0a2"
      },
      "execution_count": null,
      "outputs": [
        {
          "output_type": "stream",
          "name": "stdout",
          "text": [
            "1\n",
            "2\n",
            "3\n",
            "10\n",
            "13\n",
            "16\n"
          ]
        }
      ]
    },
    {
      "cell_type": "code",
      "source": [
        "A=[[1,2,3],[4,5,6],[7,8,9]]\n",
        "for i in range (len(A)):\n",
        "    print(A[0][i])\n",
        "for l in range (len(l))\n",
        "  print(A[1][])\n"
      ],
      "metadata": {
        "colab": {
          "base_uri": "https://localhost:8080/"
        },
        "id": "uB4fBJTo6ADg",
        "outputId": "404338b2-a0e8-46d4-dec3-a004d5c0bb6b"
      },
      "execution_count": null,
      "outputs": [
        {
          "output_type": "stream",
          "name": "stdout",
          "text": [
            "1\n",
            "5\n",
            "9\n",
            "1\n",
            "5\n",
            "9\n"
          ]
        }
      ]
    },
    {
      "cell_type": "code",
      "source": [
        "A=[[1,2,3],[4,5,6],[7,8,9]]\n",
        "for i in range(len(A)):\n",
        "  for j in range(len(A)):\n",
        "    print(A[i][j])\n"
      ],
      "metadata": {
        "colab": {
          "base_uri": "https://localhost:8080/"
        },
        "id": "m0DuXYGq8AFW",
        "outputId": "4196c122-f1fc-4d3c-9b38-2292fc0f5de6"
      },
      "execution_count": null,
      "outputs": [
        {
          "output_type": "stream",
          "name": "stdout",
          "text": [
            "1\n",
            "2\n",
            "3\n",
            "4\n",
            "5\n",
            "6\n",
            "7\n",
            "8\n",
            "9\n"
          ]
        }
      ]
    },
    {
      "cell_type": "code",
      "source": [
        "A=[[1,2,3],[4,5,6],[7,8,9]]\n",
        "for i in range(len(A)):\n",
        "  for j in range (len(A)):\n",
        "    print(A[j][i])\n",
        "\n"
      ],
      "metadata": {
        "colab": {
          "base_uri": "https://localhost:8080/"
        },
        "id": "v8qlBanT8cl2",
        "outputId": "11b0ab80-0a4c-43a0-d621-ae800b30f173"
      },
      "execution_count": null,
      "outputs": [
        {
          "output_type": "stream",
          "name": "stdout",
          "text": [
            "1\n",
            "4\n",
            "7\n",
            "2\n",
            "5\n",
            "8\n",
            "3\n",
            "6\n",
            "9\n"
          ]
        }
      ]
    },
    {
      "cell_type": "code",
      "source": [
        "A=[[1,2,3],[4,5,6],[7,8,9]]\n",
        "B=[[10,11,12],[13,14,15],[16,17,18]]\n",
        "for i in range (len(A)):\n",
        "    for j in range (len(A)):\n",
        "      print(A[i][j]+B[i][j])"
      ],
      "metadata": {
        "colab": {
          "base_uri": "https://localhost:8080/"
        },
        "id": "gIZu994w_uT9",
        "outputId": "9867ceae-77c5-416a-b422-58eeee75e203"
      },
      "execution_count": null,
      "outputs": [
        {
          "output_type": "stream",
          "name": "stdout",
          "text": [
            "11\n",
            "13\n",
            "15\n",
            "17\n",
            "19\n",
            "21\n",
            "23\n",
            "25\n",
            "27\n"
          ]
        }
      ]
    },
    {
      "cell_type": "code",
      "source": [
        "A=[5,4,3,2,1]\n",
        "n=len(A)\n",
        "for i in range(n-1):\n",
        "  if A[i]>A[i+1]:\n",
        "    aux= A[i+1]\n",
        "    A[i+1]=A[i]\n",
        "    A[i]=aux\n",
        "    print(A)"
      ],
      "metadata": {
        "colab": {
          "base_uri": "https://localhost:8080/"
        },
        "id": "RqDKRwfHArP3",
        "outputId": "2a9e0fc5-568b-4c75-9cfc-7ec8dd63d0ea"
      },
      "execution_count": null,
      "outputs": [
        {
          "output_type": "stream",
          "name": "stdout",
          "text": [
            "[4, 5, 3, 2, 1]\n",
            "[4, 3, 5, 2, 1]\n",
            "[4, 3, 2, 5, 1]\n",
            "[4, 3, 2, 1, 5]\n"
          ]
        }
      ]
    }
  ]
}